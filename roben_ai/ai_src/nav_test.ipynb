{
 "cells": [
  {
   "cell_type": "code",
   "execution_count": 1,
   "id": "975014f4",
   "metadata": {},
   "outputs": [
    {
     "name": "stderr",
     "output_type": "stream",
     "text": [
      "/home/zeyadcode_jammy/.local/lib/python3.10/site-packages/matplotlib/projections/__init__.py:63: UserWarning: Unable to import Axes3D. This may be due to multiple versions of Matplotlib being installed (e.g. as a system package and as a pip package). As a result, the 3D projection is not available.\n",
      "  warnings.warn(\"Unable to import Axes3D. This may be due to multiple versions of \"\n",
      "2025-05-08 11:43:56.999243: W tensorflow/compiler/tf2tensorrt/utils/py_utils.cc:38] TF-TRT Warning: Could not find TensorRT\n"
     ]
    }
   ],
   "source": [
    "import carla\n",
    "import numpy as np\n",
    "from car_dreamer.toolkit.planner.agents.navigation.global_route_planner import GlobalRoutePlanner\n",
    "from car_dreamer.toolkit.planner.agents.navigation.basic_agent import BasicAgent\n",
    "from car_dreamer.toolkit.carla_manager import WorldManager\n",
    "\n",
    "from navigator.wp_utils import xyz_to_right_lane\n",
    "from navigator.visualize import CarlaVisualizer\n",
    "from navigator.tsp_solver import optimize_route_order\n",
    "from navigator.route_generator import generate_full_route\n",
    "from navigator.test import spawn_traffic\n",
    "\n",
    "from car_dreamer.toolkit import Config\n",
    "from car_dreamer import create_task\n",
    "from dreamerv3.agent import Agent as DreamerV3Agent\n",
    "from car_dreamer.toolkit.observer.observer import Observer  \n",
    "from car_dreamer import load_task_configs\n",
    "from dreamerv3 import embodied\n",
    "from dreamerv3.embodied.core import Driver\n",
    "\n",
    "import os  \n",
    "# import torch  \n",
    "from car_dreamer.toolkit.observer.observer import Observer  \n",
    "from car_dreamer.toolkit.observer.handlers import BirdeyeHandler  \n",
    "from dreamerv3 import embodied  \n",
    "from copy import deepcopy"
   ]
  },
  {
   "cell_type": "code",
   "execution_count": 7,
   "id": "030fa828",
   "metadata": {},
   "outputs": [
    {
     "name": "stdout",
     "output_type": "stream",
     "text": [
      "Calculating pairwise distances...\n"
     ]
    }
   ],
   "source": [
    "client = carla.Client(\"localhost\", 2000)\n",
    "client.set_timeout(20)\n",
    "world = client.get_world()\n",
    "carla_map = world.get_map()\n",
    "ego_vehicle = next(v for v in world.get_actors().filter(\"vehicle.*\") if v.attributes.get(\"role_name\") == \"ego_vehicle\")\n",
    "\n",
    "spawn_points = carla_map.get_spawn_points()\n",
    "target_points = [\n",
    "    [280.363739, 133.306351, 0.001746],\n",
    "    [334.949799, 161.106171, 0.001736],\n",
    "    [339.100037, 258.568939, 0.001679],\n",
    "    [396.295319, 183.195740, 0.001678],\n",
    "    [267.657074, 1.983160, 0.001678],\n",
    "    [153.868896, 26.115866, 0.001678],\n",
    "    [290.515564, 56.175072, 0.001677],\n",
    "    [92.325722, 86.063644, 0.001677],\n",
    "    [88.384346, 287.468567, 0.001728],\n",
    "    [177.594101, 326.386902, 0.001677],\n",
    "    [-1.646942, 197.501282, 0.001555],\n",
    "    [59.701321, 1.970804, 0.001467],\n",
    "    [122.100121, 55.142044, 0.001596],\n",
    "    [161.030975, 129.313187, 0.001679],\n",
    "    [184.758713, 199.424271, 0.001680],\n",
    "]\n",
    "sampling_resolution = 1.0\n",
    "\n",
    "target_locations = xyz_to_right_lane(target_points, carla_map)\n",
    "\n",
    "grp = GlobalRoutePlanner(carla_map, sampling_resolution)\n",
    "\n",
    "optimized_targets = optimize_route_order(\n",
    "    ego_vehicle.get_location(),\n",
    "    target_locations,\n",
    "    grp,\n",
    ")\n",
    "\n",
    "full_route = generate_full_route(ego_vehicle.get_location(), optimized_targets, grp)"
   ]
  },
  {
   "cell_type": "code",
   "execution_count": 8,
   "id": "0094732e",
   "metadata": {},
   "outputs": [],
   "source": [
    "cfg = load_task_configs('carla_navigation')\n",
    "env_cfg = cfg.env\n",
    "observer_cfg = env_cfg.observation"
   ]
  },
  {
   "cell_type": "code",
   "execution_count": 11,
   "id": "04bc7dcd",
   "metadata": {},
   "outputs": [
    {
     "name": "stdout",
     "output_type": "stream",
     "text": [
      "[CARLA] Connecting to Carla server at 2000...\n",
      "[CARLA] Map Town04 loaded\n"
     ]
    },
    {
     "data": {
      "text/html": [
       "<pre style=\"white-space:pre;overflow-x:auto;line-height:normal;font-family:Menlo,'DejaVu Sans Mono',consolas,'Courier New',monospace\"><span style=\"color: #800000; text-decoration-color: #800000\">╭─────────────────────────────── </span><span style=\"color: #800000; text-decoration-color: #800000; font-weight: bold\">Traceback </span><span style=\"color: #bf7f7f; text-decoration-color: #bf7f7f; font-weight: bold\">(most recent call last)</span><span style=\"color: #800000; text-decoration-color: #800000\"> ────────────────────────────────╮</span>\n",
       "<span style=\"color: #800000; text-decoration-color: #800000\">│</span> in <span style=\"color: #00ff00; text-decoration-color: #00ff00\">&lt;module&gt;</span>:<span style=\"color: #0000ff; text-decoration-color: #0000ff\">1</span>                                                                                    <span style=\"color: #800000; text-decoration-color: #800000\">│</span>\n",
       "<span style=\"color: #800000; text-decoration-color: #800000\">│</span>                                                                                                  <span style=\"color: #800000; text-decoration-color: #800000\">│</span>\n",
       "<span style=\"color: #800000; text-decoration-color: #800000\">│</span> <span style=\"color: #800000; text-decoration-color: #800000\">❱ </span>1 world_manager = WorldManager(env_cfg, client=client)                                         <span style=\"color: #800000; text-decoration-color: #800000\">│</span>\n",
       "<span style=\"color: #800000; text-decoration-color: #800000\">│</span>   <span style=\"color: #7f7f7f; text-decoration-color: #7f7f7f\">2 </span>                                                                                             <span style=\"color: #800000; text-decoration-color: #800000\">│</span>\n",
       "<span style=\"color: #800000; text-decoration-color: #800000\">│</span>                                                                                                  <span style=\"color: #800000; text-decoration-color: #800000\">│</span>\n",
       "<span style=\"color: #800000; text-decoration-color: #800000\">│</span> <span style=\"color: #bfbf7f; text-decoration-color: #bfbf7f\">/home/zeyadcode_jammy/.local/lib/python3.10/site-packages/car_dreamer/toolkit/carla_manager/</span><span style=\"color: #808000; text-decoration-color: #808000; font-weight: bold\">worl</span> <span style=\"color: #800000; text-decoration-color: #800000\">│</span>\n",
       "<span style=\"color: #800000; text-decoration-color: #800000\">│</span> <span style=\"color: #808000; text-decoration-color: #808000; font-weight: bold\">d_manager.py</span>:<span style=\"color: #0000ff; text-decoration-color: #0000ff\">54</span> in <span style=\"color: #00ff00; text-decoration-color: #00ff00\">__init__</span>                                                                      <span style=\"color: #800000; text-decoration-color: #800000\">│</span>\n",
       "<span style=\"color: #800000; text-decoration-color: #800000\">│</span>                                                                                                  <span style=\"color: #800000; text-decoration-color: #800000\">│</span>\n",
       "<span style=\"color: #800000; text-decoration-color: #800000\">│</span>   <span style=\"color: #7f7f7f; text-decoration-color: #7f7f7f\"> 51 </span><span style=\"color: #7f7f7f; text-decoration-color: #7f7f7f\">│   │   </span><span style=\"color: #00ffff; text-decoration-color: #00ffff\">self</span>._settings = settings                                                          <span style=\"color: #800000; text-decoration-color: #800000\">│</span>\n",
       "<span style=\"color: #800000; text-decoration-color: #800000\">│</span>   <span style=\"color: #7f7f7f; text-decoration-color: #7f7f7f\"> 52 </span><span style=\"color: #7f7f7f; text-decoration-color: #7f7f7f\">│   │   </span>                                                                                   <span style=\"color: #800000; text-decoration-color: #800000\">│</span>\n",
       "<span style=\"color: #800000; text-decoration-color: #800000\">│</span>   <span style=\"color: #7f7f7f; text-decoration-color: #7f7f7f\"> 53 </span><span style=\"color: #7f7f7f; text-decoration-color: #7f7f7f\">│   │   </span><span style=\"color: #00ffff; text-decoration-color: #00ffff\">self</span>._tm_port = <span style=\"color: #00ffff; text-decoration-color: #00ffff\">self</span>._config.carla_port + <span style=\"color: #0000ff; text-decoration-color: #0000ff\">6000</span>                                     <span style=\"color: #800000; text-decoration-color: #800000\">│</span>\n",
       "<span style=\"color: #800000; text-decoration-color: #800000\">│</span> <span style=\"color: #800000; text-decoration-color: #800000\">❱ </span> 54 <span style=\"color: #7f7f7f; text-decoration-color: #7f7f7f\">│   │   </span><span style=\"color: #00ffff; text-decoration-color: #00ffff\">self</span>._vehicle_manager = VehicleManager(<span style=\"color: #00ffff; text-decoration-color: #00ffff\">self</span>._client, <span style=\"color: #00ffff; text-decoration-color: #00ffff\">self</span>._tm_port, <span style=\"color: #00ffff; text-decoration-color: #00ffff\">self</span>._config   <span style=\"color: #800000; text-decoration-color: #800000\">│</span>\n",
       "<span style=\"color: #800000; text-decoration-color: #800000\">│</span>   <span style=\"color: #7f7f7f; text-decoration-color: #7f7f7f\"> 55 </span><span style=\"color: #7f7f7f; text-decoration-color: #7f7f7f\">│   │   </span>                                                                                   <span style=\"color: #800000; text-decoration-color: #800000\">│</span>\n",
       "<span style=\"color: #800000; text-decoration-color: #800000\">│</span>   <span style=\"color: #7f7f7f; text-decoration-color: #7f7f7f\"> 56 </span><span style=\"color: #7f7f7f; text-decoration-color: #7f7f7f\">│   │   </span><span style=\"color: #00ffff; text-decoration-color: #00ffff\">self</span>._on_reset = <span style=\"color: #0000ff; text-decoration-color: #0000ff\">None</span>                                                              <span style=\"color: #800000; text-decoration-color: #800000\">│</span>\n",
       "<span style=\"color: #800000; text-decoration-color: #800000\">│</span>   <span style=\"color: #7f7f7f; text-decoration-color: #7f7f7f\"> 57 </span><span style=\"color: #7f7f7f; text-decoration-color: #7f7f7f\">│   │   </span><span style=\"color: #00ffff; text-decoration-color: #00ffff\">self</span>._apply_control = <span style=\"color: #0000ff; text-decoration-color: #0000ff\">None</span>                                                         <span style=\"color: #800000; text-decoration-color: #800000\">│</span>\n",
       "<span style=\"color: #800000; text-decoration-color: #800000\">│</span>                                                                                                  <span style=\"color: #800000; text-decoration-color: #800000\">│</span>\n",
       "<span style=\"color: #800000; text-decoration-color: #800000\">│</span> <span style=\"color: #bfbf7f; text-decoration-color: #bfbf7f\">/home/zeyadcode_jammy/.local/lib/python3.10/site-packages/car_dreamer/toolkit/carla_manager/</span><span style=\"color: #808000; text-decoration-color: #808000; font-weight: bold\">vehi</span> <span style=\"color: #800000; text-decoration-color: #800000\">│</span>\n",
       "<span style=\"color: #800000; text-decoration-color: #800000\">│</span> <span style=\"color: #808000; text-decoration-color: #808000; font-weight: bold\">cle_manager.py</span>:<span style=\"color: #0000ff; text-decoration-color: #0000ff\">7</span> in <span style=\"color: #00ff00; text-decoration-color: #00ff00\">__init__</span>                                                                     <span style=\"color: #800000; text-decoration-color: #800000\">│</span>\n",
       "<span style=\"color: #800000; text-decoration-color: #800000\">│</span>                                                                                                  <span style=\"color: #800000; text-decoration-color: #800000\">│</span>\n",
       "<span style=\"color: #800000; text-decoration-color: #800000\">│</span>   <span style=\"color: #7f7f7f; text-decoration-color: #7f7f7f\"> 4 </span><span style=\"color: #7f7f7f; text-decoration-color: #7f7f7f\">│   │   </span><span style=\"color: #00ffff; text-decoration-color: #00ffff\">self</span>._traffic_config = traffic_config                                               <span style=\"color: #800000; text-decoration-color: #800000\">│</span>\n",
       "<span style=\"color: #800000; text-decoration-color: #800000\">│</span>   <span style=\"color: #7f7f7f; text-decoration-color: #7f7f7f\"> 5 </span><span style=\"color: #7f7f7f; text-decoration-color: #7f7f7f\">│   │   </span>                                                                                    <span style=\"color: #800000; text-decoration-color: #800000\">│</span>\n",
       "<span style=\"color: #800000; text-decoration-color: #800000\">│</span>   <span style=\"color: #7f7f7f; text-decoration-color: #7f7f7f\"> 6 </span><span style=\"color: #7f7f7f; text-decoration-color: #7f7f7f\">│   │   </span><span style=\"color: #00ffff; text-decoration-color: #00ffff\">self</span>._tm = <span style=\"color: #00ffff; text-decoration-color: #00ffff\">self</span>._client.get_trafficmanager(tm_port)                                 <span style=\"color: #800000; text-decoration-color: #800000\">│</span>\n",
       "<span style=\"color: #800000; text-decoration-color: #800000\">│</span> <span style=\"color: #800000; text-decoration-color: #800000\">❱ </span> 7 <span style=\"color: #7f7f7f; text-decoration-color: #7f7f7f\">│   │   </span><span style=\"color: #00ffff; text-decoration-color: #00ffff\">self</span>._tm.set_global_distance_to_leading_vehicle(<span style=\"color: #0000ff; text-decoration-color: #0000ff\">3.5</span>)                                <span style=\"color: #800000; text-decoration-color: #800000\">│</span>\n",
       "<span style=\"color: #800000; text-decoration-color: #800000\">│</span>   <span style=\"color: #7f7f7f; text-decoration-color: #7f7f7f\"> 8 </span><span style=\"color: #7f7f7f; text-decoration-color: #7f7f7f\">│   │   </span><span style=\"color: #00ffff; text-decoration-color: #00ffff\">self</span>._tm.set_respawn_dormant_vehicles(<span style=\"color: #0000ff; text-decoration-color: #0000ff\">True</span>)                                         <span style=\"color: #800000; text-decoration-color: #800000\">│</span>\n",
       "<span style=\"color: #800000; text-decoration-color: #800000\">│</span>   <span style=\"color: #7f7f7f; text-decoration-color: #7f7f7f\"> 9 </span><span style=\"color: #7f7f7f; text-decoration-color: #7f7f7f\">│   │   </span><span style=\"color: #00ffff; text-decoration-color: #00ffff\">self</span>._tm.set_boundaries_respawn_dormant_vehicles(<span style=\"color: #0000ff; text-decoration-color: #0000ff\">40</span>, <span style=\"color: #0000ff; text-decoration-color: #0000ff\">100</span>)                           <span style=\"color: #800000; text-decoration-color: #800000\">│</span>\n",
       "<span style=\"color: #800000; text-decoration-color: #800000\">│</span>   <span style=\"color: #7f7f7f; text-decoration-color: #7f7f7f\">10 </span><span style=\"color: #7f7f7f; text-decoration-color: #7f7f7f\">│   │   </span><span style=\"color: #00ffff; text-decoration-color: #00ffff\">self</span>._tm.set_random_device_seed(traffic_config.tm_seed)                             <span style=\"color: #800000; text-decoration-color: #800000\">│</span>\n",
       "<span style=\"color: #800000; text-decoration-color: #800000\">╰──────────────────────────────────────────────────────────────────────────────────────────────────╯</span>\n",
       "<span style=\"color: #ff0000; text-decoration-color: #ff0000; font-weight: bold\">RuntimeError: </span>rpc::timeout: Timeout of 2000ms while calling RPC function <span style=\"color: #008000; text-decoration-color: #008000\">'set_global_distance_to_leading_vehicle'</span>\n",
       "</pre>\n"
      ],
      "text/plain": [
       "\u001b[31m╭─\u001b[0m\u001b[31m──────────────────────────────\u001b[0m\u001b[31m \u001b[0m\u001b[1;31mTraceback \u001b[0m\u001b[1;2;31m(most recent call last)\u001b[0m\u001b[31m \u001b[0m\u001b[31m───────────────────────────────\u001b[0m\u001b[31m─╮\u001b[0m\n",
       "\u001b[31m│\u001b[0m in \u001b[92m<module>\u001b[0m:\u001b[94m1\u001b[0m                                                                                    \u001b[31m│\u001b[0m\n",
       "\u001b[31m│\u001b[0m                                                                                                  \u001b[31m│\u001b[0m\n",
       "\u001b[31m│\u001b[0m \u001b[31m❱ \u001b[0m1 world_manager = WorldManager(env_cfg, client=client)                                         \u001b[31m│\u001b[0m\n",
       "\u001b[31m│\u001b[0m   \u001b[2m2 \u001b[0m                                                                                             \u001b[31m│\u001b[0m\n",
       "\u001b[31m│\u001b[0m                                                                                                  \u001b[31m│\u001b[0m\n",
       "\u001b[31m│\u001b[0m \u001b[2;33m/home/zeyadcode_jammy/.local/lib/python3.10/site-packages/car_dreamer/toolkit/carla_manager/\u001b[0m\u001b[1;33mworl\u001b[0m \u001b[31m│\u001b[0m\n",
       "\u001b[31m│\u001b[0m \u001b[1;33md_manager.py\u001b[0m:\u001b[94m54\u001b[0m in \u001b[92m__init__\u001b[0m                                                                      \u001b[31m│\u001b[0m\n",
       "\u001b[31m│\u001b[0m                                                                                                  \u001b[31m│\u001b[0m\n",
       "\u001b[31m│\u001b[0m   \u001b[2m 51 \u001b[0m\u001b[2m│   │   \u001b[0m\u001b[96mself\u001b[0m._settings = settings                                                          \u001b[31m│\u001b[0m\n",
       "\u001b[31m│\u001b[0m   \u001b[2m 52 \u001b[0m\u001b[2m│   │   \u001b[0m                                                                                   \u001b[31m│\u001b[0m\n",
       "\u001b[31m│\u001b[0m   \u001b[2m 53 \u001b[0m\u001b[2m│   │   \u001b[0m\u001b[96mself\u001b[0m._tm_port = \u001b[96mself\u001b[0m._config.carla_port + \u001b[94m6000\u001b[0m                                     \u001b[31m│\u001b[0m\n",
       "\u001b[31m│\u001b[0m \u001b[31m❱ \u001b[0m 54 \u001b[2m│   │   \u001b[0m\u001b[96mself\u001b[0m._vehicle_manager = VehicleManager(\u001b[96mself\u001b[0m._client, \u001b[96mself\u001b[0m._tm_port, \u001b[96mself\u001b[0m._config   \u001b[31m│\u001b[0m\n",
       "\u001b[31m│\u001b[0m   \u001b[2m 55 \u001b[0m\u001b[2m│   │   \u001b[0m                                                                                   \u001b[31m│\u001b[0m\n",
       "\u001b[31m│\u001b[0m   \u001b[2m 56 \u001b[0m\u001b[2m│   │   \u001b[0m\u001b[96mself\u001b[0m._on_reset = \u001b[94mNone\u001b[0m                                                              \u001b[31m│\u001b[0m\n",
       "\u001b[31m│\u001b[0m   \u001b[2m 57 \u001b[0m\u001b[2m│   │   \u001b[0m\u001b[96mself\u001b[0m._apply_control = \u001b[94mNone\u001b[0m                                                         \u001b[31m│\u001b[0m\n",
       "\u001b[31m│\u001b[0m                                                                                                  \u001b[31m│\u001b[0m\n",
       "\u001b[31m│\u001b[0m \u001b[2;33m/home/zeyadcode_jammy/.local/lib/python3.10/site-packages/car_dreamer/toolkit/carla_manager/\u001b[0m\u001b[1;33mvehi\u001b[0m \u001b[31m│\u001b[0m\n",
       "\u001b[31m│\u001b[0m \u001b[1;33mcle_manager.py\u001b[0m:\u001b[94m7\u001b[0m in \u001b[92m__init__\u001b[0m                                                                     \u001b[31m│\u001b[0m\n",
       "\u001b[31m│\u001b[0m                                                                                                  \u001b[31m│\u001b[0m\n",
       "\u001b[31m│\u001b[0m   \u001b[2m 4 \u001b[0m\u001b[2m│   │   \u001b[0m\u001b[96mself\u001b[0m._traffic_config = traffic_config                                               \u001b[31m│\u001b[0m\n",
       "\u001b[31m│\u001b[0m   \u001b[2m 5 \u001b[0m\u001b[2m│   │   \u001b[0m                                                                                    \u001b[31m│\u001b[0m\n",
       "\u001b[31m│\u001b[0m   \u001b[2m 6 \u001b[0m\u001b[2m│   │   \u001b[0m\u001b[96mself\u001b[0m._tm = \u001b[96mself\u001b[0m._client.get_trafficmanager(tm_port)                                 \u001b[31m│\u001b[0m\n",
       "\u001b[31m│\u001b[0m \u001b[31m❱ \u001b[0m 7 \u001b[2m│   │   \u001b[0m\u001b[96mself\u001b[0m._tm.set_global_distance_to_leading_vehicle(\u001b[94m3.5\u001b[0m)                                \u001b[31m│\u001b[0m\n",
       "\u001b[31m│\u001b[0m   \u001b[2m 8 \u001b[0m\u001b[2m│   │   \u001b[0m\u001b[96mself\u001b[0m._tm.set_respawn_dormant_vehicles(\u001b[94mTrue\u001b[0m)                                         \u001b[31m│\u001b[0m\n",
       "\u001b[31m│\u001b[0m   \u001b[2m 9 \u001b[0m\u001b[2m│   │   \u001b[0m\u001b[96mself\u001b[0m._tm.set_boundaries_respawn_dormant_vehicles(\u001b[94m40\u001b[0m, \u001b[94m100\u001b[0m)                           \u001b[31m│\u001b[0m\n",
       "\u001b[31m│\u001b[0m   \u001b[2m10 \u001b[0m\u001b[2m│   │   \u001b[0m\u001b[96mself\u001b[0m._tm.set_random_device_seed(traffic_config.tm_seed)                             \u001b[31m│\u001b[0m\n",
       "\u001b[31m╰──────────────────────────────────────────────────────────────────────────────────────────────────╯\u001b[0m\n",
       "\u001b[1;91mRuntimeError: \u001b[0mrpc::timeout: Timeout of 2000ms while calling RPC function \u001b[32m'set_global_distance_to_leading_vehicle'\u001b[0m\n"
      ]
     },
     "metadata": {},
     "output_type": "display_data"
    }
   ],
   "source": [
    "world_manager = WorldManager(env_cfg, client=client)"
   ]
  },
  {
   "cell_type": "code",
   "execution_count": 12,
   "id": "46f95dbf",
   "metadata": {},
   "outputs": [],
   "source": [
    "observer = Observer(world_manager, observer_cfg)"
   ]
  },
  {
   "cell_type": "code",
   "execution_count": 14,
   "id": "0f23b6e9",
   "metadata": {},
   "outputs": [],
   "source": [
    "# Load the pretrained DreamerV3 model  \n",
    "checkpoint_path = \"./navigation.ckpt\"  # Path to your downloaded checkpoint  \n",
    "  \n",
    "# Create DreamerV3 config  \n",
    "config = embodied.Config()  \n",
    "config = config.update({  \n",
    "    \"logdir\": \"./logdir/eval\",  \n",
    "    \"jax\": {  \n",
    "        \"policy_devices\": [0],  \n",
    "        \"train_devices\": [0]  \n",
    "    },  \n",
    "    \"encoder\": {  \n",
    "        \"cnn_keys\": \"birdeye_wpt\"  \n",
    "    },  \n",
    "    \"decoder\": {  \n",
    "        \"cnn_keys\": \"birdeye_wpt\"  \n",
    "    }  \n",
    "})  "
   ]
  },
  {
   "cell_type": "code",
   "execution_count": 15,
   "id": "8bdfce70",
   "metadata": {},
   "outputs": [
    {
     "data": {
      "text/html": [
       "<pre style=\"white-space:pre;overflow-x:auto;line-height:normal;font-family:Menlo,'DejaVu Sans Mono',consolas,'Courier New',monospace\"><span style=\"color: #800000; text-decoration-color: #800000\">╭─────────────────────────────── </span><span style=\"color: #800000; text-decoration-color: #800000; font-weight: bold\">Traceback </span><span style=\"color: #bf7f7f; text-decoration-color: #bf7f7f; font-weight: bold\">(most recent call last)</span><span style=\"color: #800000; text-decoration-color: #800000\"> ────────────────────────────────╮</span>\n",
       "<span style=\"color: #800000; text-decoration-color: #800000\">│</span> in <span style=\"color: #00ff00; text-decoration-color: #00ff00\">&lt;module&gt;</span>:<span style=\"color: #0000ff; text-decoration-color: #0000ff\">21</span>                                                                                   <span style=\"color: #800000; text-decoration-color: #800000\">│</span>\n",
       "<span style=\"color: #800000; text-decoration-color: #800000\">│</span>                                                                                                  <span style=\"color: #800000; text-decoration-color: #800000\">│</span>\n",
       "<span style=\"color: #800000; text-decoration-color: #800000\">│</span>   <span style=\"color: #7f7f7f; text-decoration-color: #7f7f7f\">18 </span>})                                                                                          <span style=\"color: #800000; text-decoration-color: #800000\">│</span>\n",
       "<span style=\"color: #800000; text-decoration-color: #800000\">│</span>   <span style=\"color: #7f7f7f; text-decoration-color: #7f7f7f\">19 </span>                                                                                            <span style=\"color: #800000; text-decoration-color: #800000\">│</span>\n",
       "<span style=\"color: #800000; text-decoration-color: #800000\">│</span>   <span style=\"color: #7f7f7f; text-decoration-color: #7f7f7f\">20 # Create DreamerV3 agent  </span>                                                                  <span style=\"color: #800000; text-decoration-color: #800000\">│</span>\n",
       "<span style=\"color: #800000; text-decoration-color: #800000\">│</span> <span style=\"color: #800000; text-decoration-color: #800000\">❱ </span>21 agent = embodied.make_agent(config)                                                         <span style=\"color: #800000; text-decoration-color: #800000\">│</span>\n",
       "<span style=\"color: #800000; text-decoration-color: #800000\">│</span>   <span style=\"color: #7f7f7f; text-decoration-color: #7f7f7f\">22 </span>agent.load(checkpoint_path)                                                                 <span style=\"color: #800000; text-decoration-color: #800000\">│</span>\n",
       "<span style=\"color: #800000; text-decoration-color: #800000\">│</span>   <span style=\"color: #7f7f7f; text-decoration-color: #7f7f7f\">23 </span>                                                                                            <span style=\"color: #800000; text-decoration-color: #800000\">│</span>\n",
       "<span style=\"color: #800000; text-decoration-color: #800000\">╰──────────────────────────────────────────────────────────────────────────────────────────────────╯</span>\n",
       "<span style=\"color: #ff0000; text-decoration-color: #ff0000; font-weight: bold\">AttributeError: </span>module <span style=\"color: #008000; text-decoration-color: #008000\">'dreamerv3.embodied'</span> has no attribute <span style=\"color: #008000; text-decoration-color: #008000\">'make_agent'</span>\n",
       "</pre>\n"
      ],
      "text/plain": [
       "\u001b[31m╭─\u001b[0m\u001b[31m──────────────────────────────\u001b[0m\u001b[31m \u001b[0m\u001b[1;31mTraceback \u001b[0m\u001b[1;2;31m(most recent call last)\u001b[0m\u001b[31m \u001b[0m\u001b[31m───────────────────────────────\u001b[0m\u001b[31m─╮\u001b[0m\n",
       "\u001b[31m│\u001b[0m in \u001b[92m<module>\u001b[0m:\u001b[94m21\u001b[0m                                                                                   \u001b[31m│\u001b[0m\n",
       "\u001b[31m│\u001b[0m                                                                                                  \u001b[31m│\u001b[0m\n",
       "\u001b[31m│\u001b[0m   \u001b[2m18 \u001b[0m})                                                                                          \u001b[31m│\u001b[0m\n",
       "\u001b[31m│\u001b[0m   \u001b[2m19 \u001b[0m                                                                                            \u001b[31m│\u001b[0m\n",
       "\u001b[31m│\u001b[0m   \u001b[2m20 \u001b[0m\u001b[2m# Create DreamerV3 agent  \u001b[0m                                                                  \u001b[31m│\u001b[0m\n",
       "\u001b[31m│\u001b[0m \u001b[31m❱ \u001b[0m21 agent = embodied.make_agent(config)                                                         \u001b[31m│\u001b[0m\n",
       "\u001b[31m│\u001b[0m   \u001b[2m22 \u001b[0magent.load(checkpoint_path)                                                                 \u001b[31m│\u001b[0m\n",
       "\u001b[31m│\u001b[0m   \u001b[2m23 \u001b[0m                                                                                            \u001b[31m│\u001b[0m\n",
       "\u001b[31m╰──────────────────────────────────────────────────────────────────────────────────────────────────╯\u001b[0m\n",
       "\u001b[1;91mAttributeError: \u001b[0mmodule \u001b[32m'dreamerv3.embodied'\u001b[0m has no attribute \u001b[32m'make_agent'\u001b[0m\n"
      ]
     },
     "metadata": {},
     "output_type": "display_data"
    }
   ],
   "source": [
    "# Load the pretrained DreamerV3 model  \n",
    "checkpoint_path = \"./navigation.ckpt\"  # Path to your downloaded checkpoint  \n",
    "  \n",
    "# Create DreamerV3 config  \n",
    "config = embodied.Config()  \n",
    "config = config.update({  \n",
    "    \"logdir\": \"./logdir/eval\",  \n",
    "    \"jax\": {  \n",
    "        \"policy_devices\": [0],  \n",
    "        \"train_devices\": [0]  \n",
    "    },  \n",
    "    \"encoder\": {  \n",
    "        \"cnn_keys\": \"birdeye_wpt\"  \n",
    "    },  \n",
    "    \"decoder\": {  \n",
    "        \"cnn_keys\": \"birdeye_wpt\"  \n",
    "    }  \n",
    "})  \n",
    "  \n",
    "# Create DreamerV3 agent  \n",
    "agent = embodied.make_agent(config)  \n",
    "agent.load(checkpoint_path)  "
   ]
  }
 ],
 "metadata": {
  "kernelspec": {
   "display_name": "Python 3",
   "language": "python",
   "name": "python3"
  },
  "language_info": {
   "codemirror_mode": {
    "name": "ipython",
    "version": 3
   },
   "file_extension": ".py",
   "mimetype": "text/x-python",
   "name": "python",
   "nbconvert_exporter": "python",
   "pygments_lexer": "ipython3",
   "version": "3.10.12"
  }
 },
 "nbformat": 4,
 "nbformat_minor": 5
}
